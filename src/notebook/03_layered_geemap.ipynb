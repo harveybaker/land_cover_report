{
 "cells": [
  {
   "cell_type": "code",
   "execution_count": 5,
   "id": "01a23eee-ff04-48bd-9ec8-27b6f05cb635",
   "metadata": {},
   "outputs": [
    {
     "data": {
      "text/html": [
       "\n",
       "            <style>\n",
       "                .geemap-dark {\n",
       "                    --jp-widgets-color: white;\n",
       "                    --jp-widgets-label-color: white;\n",
       "                    --jp-ui-font-color1: white;\n",
       "                    --jp-layout-color2: #454545;\n",
       "                    background-color: #383838;\n",
       "                }\n",
       "                    \n",
       "                .geemap-dark .jupyter-button {\n",
       "                    --jp-layout-color3: #383838;\n",
       "                }\n",
       "                \n",
       "                .geemap-colab {\n",
       "                    background-color: var(--colab-primary-surface-color, white);\n",
       "                }\n",
       "                    \n",
       "                .geemap-colab .jupyter-button {\n",
       "                    --jp-layout-color3: var(--colab-primary-surface-color, white);\n",
       "                }\n",
       "            </style>\n",
       "            "
      ],
      "text/plain": [
       "<IPython.core.display.HTML object>"
      ]
     },
     "metadata": {},
     "output_type": "display_data"
    }
   ],
   "source": [
    "import geopandas as gpd\n",
    "import json\n",
    "import ssl \n",
    "import geemap\n",
    "ssl._create_default_https_context = ssl._create_unverified_context\n",
    "import ee\n",
    "\n",
    "# Trigger the authentication flow.\n",
    "# Don't need to run the below as I am alreay authenticated\n",
    "# ee.Authenticate()\n",
    "\n",
    "# Initialize the library.\n",
    "ee.Initialize()"
   ]
  },
  {
   "cell_type": "code",
   "execution_count": 6,
   "id": "349207f4-bb5a-4b36-b2f8-2cc07a8fab95",
   "metadata": {},
   "outputs": [
    {
     "data": {
      "text/html": [
       "\n",
       "            <style>\n",
       "                .geemap-dark {\n",
       "                    --jp-widgets-color: white;\n",
       "                    --jp-widgets-label-color: white;\n",
       "                    --jp-ui-font-color1: white;\n",
       "                    --jp-layout-color2: #454545;\n",
       "                    background-color: #383838;\n",
       "                }\n",
       "                    \n",
       "                .geemap-dark .jupyter-button {\n",
       "                    --jp-layout-color3: #383838;\n",
       "                }\n",
       "                \n",
       "                .geemap-colab {\n",
       "                    background-color: var(--colab-primary-surface-color, white);\n",
       "                }\n",
       "                    \n",
       "                .geemap-colab .jupyter-button {\n",
       "                    --jp-layout-color3: var(--colab-primary-surface-color, white);\n",
       "                }\n",
       "            </style>\n",
       "            "
      ],
      "text/plain": [
       "<IPython.core.display.HTML object>"
      ]
     },
     "metadata": {},
     "output_type": "display_data"
    }
   ],
   "source": [
    "from typing import Dict, Optional\n",
    "def ee_geo_compatible(geoJSON_input: Dict):\n",
    "    geoJSON_output = dict(geoJSON_input)\n",
    "    try:\n",
    "        if geoJSON_input[\"type\"]==\"Polygon\":\n",
    "            check_coords = geoJSON_input[\"coordinates\"][0][0]\n",
    "            if len(check_coords)>2:\n",
    "                print(\"Forcefully making coordinates compatible ee.Geometry as current len>2:\", check_coords)\n",
    "                new_coords = [[x[0:2] for x in y] for y in geoJSON_input[\"coordinates\"]]\n",
    "                geoJSON_output[\"coordinates\"] = new_coords\n",
    "        else:\n",
    "            print(\"currently unknown handling for type:\", geoJSON_input[\"type\"])\n",
    "        return geoJSON_output\n",
    "    except:\n",
    "        print(\"Dict passed does not follow geoJSON format\")\n",
    "        return None\n",
    "            "
   ]
  },
  {
   "cell_type": "code",
   "execution_count": 9,
   "id": "59f839c3-3e77-4a19-9af7-569f9557a5bf",
   "metadata": {},
   "outputs": [
    {
     "data": {
      "text/html": [
       "\n",
       "            <style>\n",
       "                .geemap-dark {\n",
       "                    --jp-widgets-color: white;\n",
       "                    --jp-widgets-label-color: white;\n",
       "                    --jp-ui-font-color1: white;\n",
       "                    --jp-layout-color2: #454545;\n",
       "                    background-color: #383838;\n",
       "                }\n",
       "                    \n",
       "                .geemap-dark .jupyter-button {\n",
       "                    --jp-layout-color3: #383838;\n",
       "                }\n",
       "                \n",
       "                .geemap-colab {\n",
       "                    background-color: var(--colab-primary-surface-color, white);\n",
       "                }\n",
       "                    \n",
       "                .geemap-colab .jupyter-button {\n",
       "                    --jp-layout-color3: var(--colab-primary-surface-color, white);\n",
       "                }\n",
       "            </style>\n",
       "            "
      ],
      "text/plain": [
       "<IPython.core.display.HTML object>"
      ]
     },
     "metadata": {},
     "output_type": "display_data"
    },
    {
     "data": {
      "text/plain": [
       "'original geojson'"
      ]
     },
     "metadata": {},
     "output_type": "display_data"
    },
    {
     "data": {
      "text/plain": [
       "{'type': 'FeatureCollection',\n",
       " 'features': [{'id': '0',\n",
       "   'type': 'Feature',\n",
       "   'properties': {'Name': 'townsville polygon', 'Description': ''},\n",
       "   'geometry': {'type': 'Polygon',\n",
       "    'coordinates': [[[146.6789497574668, -19.23247934166526, 0.0],\n",
       "      [146.6879911595589, -19.33054650116621, 0.0],\n",
       "      [146.8302295699071, -19.33087430904637, 0.0],\n",
       "      [146.8595478481039, -19.26336834562065, 0.0],\n",
       "      [146.8048945577382, -19.2333878909012, 0.0],\n",
       "      [146.6789497574668, -19.23247934166526, 0.0]]]}}]}"
      ]
     },
     "metadata": {},
     "output_type": "display_data"
    },
    {
     "name": "stdout",
     "output_type": "stream",
     "text": [
      "Forcefully making coordinates compatible ee.Geometry as current len>2: [146.6789497574668, -19.23247934166526, 0.0]\n",
      "succesfully passed to ee.Geometry\n"
     ]
    },
    {
     "data": {
      "text/plain": [
       "'updated geoJSON'"
      ]
     },
     "metadata": {},
     "output_type": "display_data"
    },
    {
     "data": {
      "text/plain": [
       "{'type': 'FeatureCollection',\n",
       " 'features': [{'id': '0',\n",
       "   'type': 'Feature',\n",
       "   'properties': {'Name': 'townsville polygon', 'Description': ''},\n",
       "   'geometry': {'type': 'Polygon',\n",
       "    'coordinates': [[[146.6789497574668, -19.23247934166526],\n",
       "      [146.6879911595589, -19.33054650116621],\n",
       "      [146.8302295699071, -19.33087430904637],\n",
       "      [146.8595478481039, -19.26336834562065],\n",
       "      [146.8048945577382, -19.2333878909012],\n",
       "      [146.6789497574668, -19.23247934166526]]]}}]}"
      ]
     },
     "metadata": {},
     "output_type": "display_data"
    },
    {
     "data": {
      "text/html": [
       "<div><style>:root {\n",
       "  --font-color-primary: var(--jp-content-font-color0, rgba(0, 0, 0, 1));\n",
       "  --font-color-secondary: var(--jp-content-font-color2, rgba(0, 0, 0, 0.6));\n",
       "  --font-color-accent: rgba(123, 31, 162, 1);\n",
       "  --border-color: var(--jp-border-color2, #e0e0e0);\n",
       "  --background-color: var(--jp-layout-color0, white);\n",
       "  --background-color-row-even: var(--jp-layout-color1, white);\n",
       "  --background-color-row-odd: var(--jp-layout-color2, #eeeeee);\n",
       "}\n",
       "\n",
       "html[theme=\"dark\"],\n",
       "body[data-theme=\"dark\"],\n",
       "body.vscode-dark {\n",
       "  --font-color-primary: rgba(255, 255, 255, 1);\n",
       "  --font-color-secondary: rgba(255, 255, 255, 0.6);\n",
       "  --font-color-accent: rgb(173, 132, 190);\n",
       "  --border-color: #2e2e2e;\n",
       "  --background-color: #111111;\n",
       "  --background-color-row-even: #111111;\n",
       "  --background-color-row-odd: #313131;\n",
       "}\n",
       "\n",
       ".ee {\n",
       "  padding: 1em;\n",
       "  line-height: 1.5em;\n",
       "  min-width: 300px;\n",
       "  max-width: 1200px;\n",
       "  overflow-y: scroll;\n",
       "  max-height: 600px;\n",
       "  border: 1px solid var(--border-color);\n",
       "  font-family: monospace;\n",
       "}\n",
       "\n",
       ".ee li {\n",
       "  list-style-type: none;\n",
       "}\n",
       "\n",
       ".ee ul {\n",
       "  padding-left: 1.5em !important;\n",
       "  margin: 0;\n",
       "}\n",
       "\n",
       ".ee > ul {\n",
       "  padding-left: 0 !important;\n",
       "}\n",
       "\n",
       ".ee-open,\n",
       ".ee-shut {\n",
       "  color: var(--font-color-secondary);\n",
       "  cursor: pointer;\n",
       "  margin: 0;\n",
       "}\n",
       "\n",
       ".ee-open:hover,\n",
       ".ee-shut:hover {\n",
       "  color: var(--font-color-primary);\n",
       "}\n",
       "\n",
       ".ee-k {\n",
       "  color: var(--font-color-accent);\n",
       "  margin-right: 6px;\n",
       "}\n",
       "\n",
       ".ee-v {\n",
       "  color: var(--font-color-primary);\n",
       "}\n",
       "\n",
       ".ee-toggle {\n",
       "  display: none;\n",
       "}\n",
       "\n",
       ".ee-shut + ul {\n",
       "  display: none;\n",
       "}\n",
       "\n",
       ".ee-open + ul {\n",
       "  display: block;\n",
       "}\n",
       "\n",
       ".ee-shut::before {\n",
       "  display: inline-block;\n",
       "  content: \"▼\";\n",
       "  margin-right: 6px;\n",
       "  transform: rotate(-90deg);\n",
       "  transition: transform 0.2s;\n",
       "}\n",
       "\n",
       ".ee-open::before {\n",
       "  transform: rotate(0deg);\n",
       "  display: inline-block;\n",
       "  content: \"▼\";\n",
       "  margin-right: 6px;\n",
       "  transition: transform 0.2s;\n",
       "}\n",
       "</style><div class='ee'><ul><li><label class='ee-shut'>Polygon (6 vertices)<input type='checkbox' class='ee-toggle'></label><ul><li><span class='ee-k'>type:</span><span class='ee-v'>Polygon</span></li><li><label class='ee-shut'>coordinates: List (1 element)<input type='checkbox' class='ee-toggle'></label><ul><li><label class='ee-shut'>0: List (6 elements)<input type='checkbox' class='ee-toggle'></label><ul><li><label class='ee-shut'>0: [146.6789497574668, -19.23247934166526]<input type='checkbox' class='ee-toggle'></label><ul><li><span class='ee-k'>0:</span><span class='ee-v'>146.6789497574668</span></li><li><span class='ee-k'>1:</span><span class='ee-v'>-19.23247934166526</span></li></ul></li><li><label class='ee-shut'>1: [146.6879911595589, -19.33054650116621]<input type='checkbox' class='ee-toggle'></label><ul><li><span class='ee-k'>0:</span><span class='ee-v'>146.6879911595589</span></li><li><span class='ee-k'>1:</span><span class='ee-v'>-19.33054650116621</span></li></ul></li><li><label class='ee-shut'>2: [146.8302295699071, -19.33087430904637]<input type='checkbox' class='ee-toggle'></label><ul><li><span class='ee-k'>0:</span><span class='ee-v'>146.8302295699071</span></li><li><span class='ee-k'>1:</span><span class='ee-v'>-19.33087430904637</span></li></ul></li><li><label class='ee-shut'>3: [146.8595478481039, -19.26336834562065]<input type='checkbox' class='ee-toggle'></label><ul><li><span class='ee-k'>0:</span><span class='ee-v'>146.8595478481039</span></li><li><span class='ee-k'>1:</span><span class='ee-v'>-19.26336834562065</span></li></ul></li><li><label class='ee-shut'>4: [146.8048945577382, -19.2333878909012]<input type='checkbox' class='ee-toggle'></label><ul><li><span class='ee-k'>0:</span><span class='ee-v'>146.8048945577382</span></li><li><span class='ee-k'>1:</span><span class='ee-v'>-19.2333878909012</span></li></ul></li><li><label class='ee-shut'>5: [146.6789497574668, -19.23247934166526]<input type='checkbox' class='ee-toggle'></label><ul><li><span class='ee-k'>0:</span><span class='ee-v'>146.6789497574668</span></li><li><span class='ee-k'>1:</span><span class='ee-v'>-19.23247934166526</span></li></ul></li></ul></li></ul></li></ul></li></ul></div><script>function toggleHeader() {\n",
       "    const parent = this.parentElement;\n",
       "    parent.className = parent.className === \"ee-open\" ? \"ee-shut\" : \"ee-open\";\n",
       "}\n",
       "\n",
       "for (let c of document.getElementsByClassName(\"ee-toggle\")) {\n",
       "    c.onclick = toggleHeader;\n",
       "}</script></div>"
      ],
      "text/plain": [
       "ee.Geometry({\n",
       "  \"functionInvocationValue\": {\n",
       "    \"functionName\": \"Collection.geometry\",\n",
       "    \"arguments\": {\n",
       "      \"collection\": {\n",
       "        \"functionInvocationValue\": {\n",
       "          \"functionName\": \"Collection\",\n",
       "          \"arguments\": {\n",
       "            \"features\": {\n",
       "              \"arrayValue\": {\n",
       "                \"values\": [\n",
       "                  {\n",
       "                    \"functionInvocationValue\": {\n",
       "                      \"functionName\": \"Feature\",\n",
       "                      \"arguments\": {\n",
       "                        \"geometry\": {\n",
       "                          \"functionInvocationValue\": {\n",
       "                            \"functionName\": \"GeometryConstructors.Polygon\",\n",
       "                            \"arguments\": {\n",
       "                              \"coordinates\": {\n",
       "                                \"constantValue\": [\n",
       "                                  [\n",
       "                                    [\n",
       "                                      146.6789497574668,\n",
       "                                      -19.23247934166526\n",
       "                                    ],\n",
       "                                    [\n",
       "                                      146.6879911595589,\n",
       "                                      -19.33054650116621\n",
       "                                    ],\n",
       "                                    [\n",
       "                                      146.8302295699071,\n",
       "                                      -19.33087430904637\n",
       "                                    ],\n",
       "                                    [\n",
       "                                      146.8595478481039,\n",
       "                                      -19.26336834562065\n",
       "                                    ],\n",
       "                                    [\n",
       "                                      146.8048945577382,\n",
       "                                      -19.2333878909012\n",
       "                                    ],\n",
       "                                    [\n",
       "                                      146.6789497574668,\n",
       "                                      -19.23247934166526\n",
       "                                    ]\n",
       "                                  ]\n",
       "                                ]\n",
       "                              }\n",
       "                            }\n",
       "                          }\n",
       "                        },\n",
       "                        \"metadata\": {\n",
       "                          \"constantValue\": {\n",
       "                            \"Description\": \"\",\n",
       "                            \"Name\": \"townsville polygon\",\n",
       "                            \"system:index\": \"0\"\n",
       "                          }\n",
       "                        }\n",
       "                      }\n",
       "                    }\n",
       "                  }\n",
       "                ]\n",
       "              }\n",
       "            }\n",
       "          }\n",
       "        }\n",
       "      }\n",
       "    }\n",
       "  }\n",
       "})"
      ]
     },
     "metadata": {},
     "output_type": "display_data"
    }
   ],
   "source": [
    "import geopandas as gpd\n",
    "from fiona.drvsupport import supported_drivers\n",
    "# Path to your KML file\n",
    "kml_file_path = 'townsville.kml'\n",
    "\n",
    "# Read the KML file using geopandas\n",
    "supported_drivers['KML'] = 'rw'\n",
    "my_map = gpd.read_file(kml_file_path, driver='KML')\n",
    "kml_geo_json=json.loads(my_map.to_json())\n",
    "new_kml_geo_json = dict(kml_geo_json)\n",
    "# Initiate with no features\n",
    "new_kml_geo_json[\"features\"] = []\n",
    "display(\"original geojson\")\n",
    "display(kml_geo_json)\n",
    "for feat in kml_geo_json[\"features\"]:\n",
    "    new_feat = dict(feat)\n",
    "    new_feat[\"geometry\"] = ee_geo_compatible(feat[\"geometry\"])\n",
    "    if new_feat[\"geometry\"]:\n",
    "        try:\n",
    "            ee.Geometry(new_feat[\"geometry\"])\n",
    "            print(\"succesfully passed to ee.Geometry\")\n",
    "            new_kml_geo_json[\"features\"] += [new_feat]\n",
    "        except:\n",
    "            print(\"Unable to pass into ee.Geometry asses below feature\")\n",
    "            print(new_feat)\n",
    "            \n",
    "display(\"updated geoJSON\")\n",
    "display(new_kml_geo_json)\n",
    "geojson_fc = ee.FeatureCollection(new_kml_geo_json)\n",
    "display(geojson_fc.geometry())"
   ]
  },
  {
   "cell_type": "code",
   "execution_count": 31,
   "id": "d40f5c4d-13b2-4ddd-8902-e4db4cf9ff4c",
   "metadata": {},
   "outputs": [
    {
     "data": {
      "text/html": [
       "\n",
       "            <style>\n",
       "                .geemap-dark {\n",
       "                    --jp-widgets-color: white;\n",
       "                    --jp-widgets-label-color: white;\n",
       "                    --jp-ui-font-color1: white;\n",
       "                    --jp-layout-color2: #454545;\n",
       "                    background-color: #383838;\n",
       "                }\n",
       "                    \n",
       "                .geemap-dark .jupyter-button {\n",
       "                    --jp-layout-color3: #383838;\n",
       "                }\n",
       "                \n",
       "                .geemap-colab {\n",
       "                    background-color: var(--colab-primary-surface-color, white);\n",
       "                }\n",
       "                    \n",
       "                .geemap-colab .jupyter-button {\n",
       "                    --jp-layout-color3: var(--colab-primary-surface-color, white);\n",
       "                }\n",
       "            </style>\n",
       "            "
      ],
      "text/plain": [
       "<IPython.core.display.HTML object>"
      ]
     },
     "metadata": {},
     "output_type": "display_data"
    },
    {
     "data": {
      "application/vnd.jupyter.widget-view+json": {
       "model_id": "5ad704982e834c39a23163bcc82d802c",
       "version_major": 2,
       "version_minor": 0
      },
      "text/plain": [
       "Map(center=[-19.281796805191107, 146.76263396612705], controls=(WidgetControl(options=['position', 'transparen…"
      ]
     },
     "metadata": {},
     "output_type": "display_data"
    }
   ],
   "source": [
    "# Initialise the Geemap\n",
    "m = geemap.Map()\n",
    "poly = geojson_fc.geometry()\n",
    "\n",
    "m.centerObject(poly, 12)\n",
    "# import land cover maps 2009, 2015, 2019, 2021\n",
    "\n",
    "# 2009 GlobCover\n",
    "dataset = ee.Image('ESA/GLOBCOVER_L4_200901_200912_V2_3').select(\n",
    "    'landcover'\n",
    ")\n",
    "visualization = {\n",
    "}\n",
    "m.add_ee_layer(dataset.clip(poly), visualization, '2009_Landcover', shown=False)\n",
    "m.add_legend(title='2009_Landcover', builtin_legend='GLOBCOVER', layer_name='2009_Landcover')\n",
    "\n",
    "# 2015 Copernicus\n",
    "visualization = {\n",
    "    'bands': ['discrete_classification'],\n",
    "}\n",
    "dataset = ee.Image('COPERNICUS/Landcover/100m/Proba-V-C3/Global/2015').select(\n",
    "    'discrete_classification'\n",
    ")\n",
    "m.add_ee_layer(dataset.clip(poly), visualization, '2015_Landcover', shown=False)\n",
    "m.add_legend(title='2015_Landcover', builtin_legend='COPERNICUS/Landcover/100m/Proba-V/Global', layer_name='2015_Landcover')\n",
    "\n",
    "# 2019 Copernicus\n",
    "dataset = ee.Image('COPERNICUS/Landcover/100m/Proba-V-C3/Global/2019').select(\n",
    "    'discrete_classification'\n",
    ")\n",
    "visualization = {\n",
    "    'bands': ['discrete_classification'],\n",
    "}\n",
    "m.add_ee_layer(dataset.clip(poly), visualization, '2019_Landcover', shown=False)\n",
    "m.add_legend(title='2019_Landcover', builtin_legend='COPERNICUS/Landcover/100m/Proba-V/Global', layer_name='2019_Landcover')\n",
    "\n",
    "# 2021 ESA World Cover\n",
    "dataset = ee.ImageCollection('ESA/WorldCover/v200').first()\n",
    "visualization = {\n",
    "    'bands': ['Map'],\n",
    "}\n",
    "m.add_ee_layer(dataset.clip(poly), visualization, '2021_Landcover', shown=False)\n",
    "m.add_legend(title='2021_Landcover', builtin_legend='ESA_WorldCover', layer_name='2021_Landcover')\n",
    "\n",
    "# Add historical satalite views \n",
    "def mask_s2_clouds(image):\n",
    "  \"\"\"Masks clouds in a Sentinel-2 image using the QA band.\n",
    "\n",
    "  Args:\n",
    "      image (ee.Image): A Sentinel-2 image.\n",
    "\n",
    "  Returns:\n",
    "      ee.Image: A cloud-masked Sentinel-2 image.\n",
    "  \"\"\"\n",
    "  qa = image.select('QA60')\n",
    "\n",
    "  # Bits 10 and 11 are clouds and cirrus, respectively.\n",
    "  cloud_bit_mask = 1 << 10\n",
    "  cirrus_bit_mask = 1 << 11\n",
    "\n",
    "  # Both flags should be set to zero, indicating clear conditions.\n",
    "  mask = (\n",
    "      qa.bitwiseAnd(cloud_bit_mask)\n",
    "      .eq(0)\n",
    "      .And(qa.bitwiseAnd(cirrus_bit_mask).eq(0))\n",
    "  )\n",
    "\n",
    "  return image.updateMask(mask).divide(10000)\n",
    "\n",
    "rgb_vis = {\n",
    "    'min': 0.0,\n",
    "    'max': 0.3,\n",
    "    'bands': ['B4', 'B3', 'B2'],\n",
    "}\n",
    "\n",
    "for yr in ['2017','2019', '2021']:\n",
    "        \n",
    "    dataset = (\n",
    "        ee.ImageCollection('COPERNICUS/S2_HARMONIZED')\n",
    "        .filterDate(f'{yr}-01-01', f'{yr}-12-31')\n",
    "        # Pre-filter to get less cloudy granules.\n",
    "        .filter(ee.Filter.lt('CLOUDY_PIXEL_PERCENTAGE', 20))\n",
    "        .map(mask_s2_clouds)\n",
    "    )\n",
    "\n",
    "    m.add_layer(dataset.median().clip(poly), rgb_vis, f'{yr}_Satalite', shown=False)\n",
    "\n",
    "display(m)"
   ]
  },
  {
   "cell_type": "code",
   "execution_count": 20,
   "id": "3608c00f-573a-430b-b9b1-43ae5ba063bc",
   "metadata": {},
   "outputs": [
    {
     "data": {
      "text/html": [
       "\n",
       "            <style>\n",
       "                .geemap-dark {\n",
       "                    --jp-widgets-color: white;\n",
       "                    --jp-widgets-label-color: white;\n",
       "                    --jp-ui-font-color1: white;\n",
       "                    --jp-layout-color2: #454545;\n",
       "                    background-color: #383838;\n",
       "                }\n",
       "                    \n",
       "                .geemap-dark .jupyter-button {\n",
       "                    --jp-layout-color3: #383838;\n",
       "                }\n",
       "                \n",
       "                .geemap-colab {\n",
       "                    background-color: var(--colab-primary-surface-color, white);\n",
       "                }\n",
       "                    \n",
       "                .geemap-colab .jupyter-button {\n",
       "                    --jp-layout-color3: var(--colab-primary-surface-color, white);\n",
       "                }\n",
       "            </style>\n",
       "            "
      ],
      "text/plain": [
       "<IPython.core.display.HTML object>"
      ]
     },
     "metadata": {},
     "output_type": "display_data"
    }
   ],
   "source": [
    "# Calculate the forest cover % for the polygon provided"
   ]
  },
  {
   "cell_type": "code",
   "execution_count": 32,
   "id": "4f2bc898-098a-455c-9533-f0211bc844a5",
   "metadata": {},
   "outputs": [
    {
     "data": {
      "text/html": [
       "\n",
       "            <style>\n",
       "                .geemap-dark {\n",
       "                    --jp-widgets-color: white;\n",
       "                    --jp-widgets-label-color: white;\n",
       "                    --jp-ui-font-color1: white;\n",
       "                    --jp-layout-color2: #454545;\n",
       "                    background-color: #383838;\n",
       "                }\n",
       "                    \n",
       "                .geemap-dark .jupyter-button {\n",
       "                    --jp-layout-color3: #383838;\n",
       "                }\n",
       "                \n",
       "                .geemap-colab {\n",
       "                    background-color: var(--colab-primary-surface-color, white);\n",
       "                }\n",
       "                    \n",
       "                .geemap-colab .jupyter-button {\n",
       "                    --jp-layout-color3: var(--colab-primary-surface-color, white);\n",
       "                }\n",
       "            </style>\n",
       "            "
      ],
      "text/plain": [
       "<IPython.core.display.HTML object>"
      ]
     },
     "metadata": {},
     "output_type": "display_data"
    }
   ],
   "source": [
    "if m.draw_features:\n",
    "    new_drawn_fc = ee.FeatureCollection(m.draw_features)\n",
    "    new_poly = new_drawn_fc.geometry()\n",
    "    # 2021 ESA World Cover\n",
    "    dataset = ee.ImageCollection('ESA/WorldCover/v200').first()\n",
    "    visualization = {\n",
    "        'bands': ['Map'],\n",
    "    }\n",
    "    m.add_ee_layer(dataset.clip(new_poly), visualization, 'drawn', shown=False)\n",
    "    # display(m)\n",
    "else:\n",
    "    m.remove_layer('drawn')"
   ]
  },
  {
   "cell_type": "code",
   "execution_count": 34,
   "id": "172e10b6-d7cd-43cf-b653-8864adaf63b8",
   "metadata": {},
   "outputs": [
    {
     "data": {
      "text/html": [
       "\n",
       "            <style>\n",
       "                .geemap-dark {\n",
       "                    --jp-widgets-color: white;\n",
       "                    --jp-widgets-label-color: white;\n",
       "                    --jp-ui-font-color1: white;\n",
       "                    --jp-layout-color2: #454545;\n",
       "                    background-color: #383838;\n",
       "                }\n",
       "                    \n",
       "                .geemap-dark .jupyter-button {\n",
       "                    --jp-layout-color3: #383838;\n",
       "                }\n",
       "                \n",
       "                .geemap-colab {\n",
       "                    background-color: var(--colab-primary-surface-color, white);\n",
       "                }\n",
       "                    \n",
       "                .geemap-colab .jupyter-button {\n",
       "                    --jp-layout-color3: var(--colab-primary-surface-color, white);\n",
       "                }\n",
       "            </style>\n",
       "            "
      ],
      "text/plain": [
       "<IPython.core.display.HTML object>"
      ]
     },
     "metadata": {},
     "output_type": "display_data"
    }
   ],
   "source": [
    "land_cover_dict = {\n",
    "    \"Tree cover\":{\n",
    "        \"color\": \"#006400\",\n",
    "        \"value\": 10, \n",
    "    },\n",
    "    \"Shrubland\":{\n",
    "        \"color\": \"#ffbb22\",\n",
    "        \"value\": 20, \n",
    "    },\n",
    "    \"Grassland\":{\n",
    "        \"color\": \"#ffff4c\",\n",
    "        \"value\": 30, \n",
    "    },\n",
    "    \"Cropland\":{\n",
    "        \"color\": \"#f096ff\",\n",
    "        \"value\": 40, \n",
    "    },\n",
    "    \"Built-up\":{\n",
    "        \"color\": \"#fa0000\",\n",
    "        \"value\": 50, \n",
    "    },\n",
    "    \"Bare / sparse vegetation\":{\n",
    "        \"color\": \"#b4b4b4\",\n",
    "        \"value\": 60, \n",
    "    },\n",
    "    \"Snow and ice\":{\n",
    "        \"color\": \"#f0f0f0\",\n",
    "        \"value\": 70, \n",
    "    },\n",
    "    \"Permanent water bodies\":{\n",
    "        \"color\": \"#0064c8\",\n",
    "        \"value\": 80, \n",
    "    },\n",
    "    \"Herbaceous wetland\":{\n",
    "        \"color\": \"#0096a0\",\n",
    "        \"value\": 90, \n",
    "    },\n",
    "    \"Mangroves\":{\n",
    "        \"color\": \"#00cf75\",\n",
    "        \"value\": 95, \n",
    "    },\n",
    "    \"Moss and lichen\":{ \n",
    "        \"color\": \"#fae6a0\",\n",
    "        \"value\": 100, \n",
    "    },\n",
    "}\n"
   ]
  },
  {
   "cell_type": "code",
   "execution_count": 56,
   "id": "21b07421-c79e-4b95-ae19-653e71a70c9b",
   "metadata": {},
   "outputs": [
    {
     "data": {
      "text/html": [
       "\n",
       "            <style>\n",
       "                .geemap-dark {\n",
       "                    --jp-widgets-color: white;\n",
       "                    --jp-widgets-label-color: white;\n",
       "                    --jp-ui-font-color1: white;\n",
       "                    --jp-layout-color2: #454545;\n",
       "                    background-color: #383838;\n",
       "                }\n",
       "                    \n",
       "                .geemap-dark .jupyter-button {\n",
       "                    --jp-layout-color3: #383838;\n",
       "                }\n",
       "                \n",
       "                .geemap-colab {\n",
       "                    background-color: var(--colab-primary-surface-color, white);\n",
       "                }\n",
       "                    \n",
       "                .geemap-colab .jupyter-button {\n",
       "                    --jp-layout-color3: var(--colab-primary-surface-color, white);\n",
       "                }\n",
       "            </style>\n",
       "            "
      ],
      "text/plain": [
       "<IPython.core.display.HTML object>"
      ]
     },
     "metadata": {},
     "output_type": "display_data"
    },
    {
     "data": {
      "text/plain": [
       "'Pixel area default projection'"
      ]
     },
     "metadata": {},
     "output_type": "display_data"
    },
    {
     "data": {
      "text/html": [
       "<div><style>:root {\n",
       "  --font-color-primary: var(--jp-content-font-color0, rgba(0, 0, 0, 1));\n",
       "  --font-color-secondary: var(--jp-content-font-color2, rgba(0, 0, 0, 0.6));\n",
       "  --font-color-accent: rgba(123, 31, 162, 1);\n",
       "  --border-color: var(--jp-border-color2, #e0e0e0);\n",
       "  --background-color: var(--jp-layout-color0, white);\n",
       "  --background-color-row-even: var(--jp-layout-color1, white);\n",
       "  --background-color-row-odd: var(--jp-layout-color2, #eeeeee);\n",
       "}\n",
       "\n",
       "html[theme=\"dark\"],\n",
       "body[data-theme=\"dark\"],\n",
       "body.vscode-dark {\n",
       "  --font-color-primary: rgba(255, 255, 255, 1);\n",
       "  --font-color-secondary: rgba(255, 255, 255, 0.6);\n",
       "  --font-color-accent: rgb(173, 132, 190);\n",
       "  --border-color: #2e2e2e;\n",
       "  --background-color: #111111;\n",
       "  --background-color-row-even: #111111;\n",
       "  --background-color-row-odd: #313131;\n",
       "}\n",
       "\n",
       ".ee {\n",
       "  padding: 1em;\n",
       "  line-height: 1.5em;\n",
       "  min-width: 300px;\n",
       "  max-width: 1200px;\n",
       "  overflow-y: scroll;\n",
       "  max-height: 600px;\n",
       "  border: 1px solid var(--border-color);\n",
       "  font-family: monospace;\n",
       "}\n",
       "\n",
       ".ee li {\n",
       "  list-style-type: none;\n",
       "}\n",
       "\n",
       ".ee ul {\n",
       "  padding-left: 1.5em !important;\n",
       "  margin: 0;\n",
       "}\n",
       "\n",
       ".ee > ul {\n",
       "  padding-left: 0 !important;\n",
       "}\n",
       "\n",
       ".ee-open,\n",
       ".ee-shut {\n",
       "  color: var(--font-color-secondary);\n",
       "  cursor: pointer;\n",
       "  margin: 0;\n",
       "}\n",
       "\n",
       ".ee-open:hover,\n",
       ".ee-shut:hover {\n",
       "  color: var(--font-color-primary);\n",
       "}\n",
       "\n",
       ".ee-k {\n",
       "  color: var(--font-color-accent);\n",
       "  margin-right: 6px;\n",
       "}\n",
       "\n",
       ".ee-v {\n",
       "  color: var(--font-color-primary);\n",
       "}\n",
       "\n",
       ".ee-toggle {\n",
       "  display: none;\n",
       "}\n",
       "\n",
       ".ee-shut + ul {\n",
       "  display: none;\n",
       "}\n",
       "\n",
       ".ee-open + ul {\n",
       "  display: block;\n",
       "}\n",
       "\n",
       ".ee-shut::before {\n",
       "  display: inline-block;\n",
       "  content: \"▼\";\n",
       "  margin-right: 6px;\n",
       "  transform: rotate(-90deg);\n",
       "  transition: transform 0.2s;\n",
       "}\n",
       "\n",
       ".ee-open::before {\n",
       "  transform: rotate(0deg);\n",
       "  display: inline-block;\n",
       "  content: \"▼\";\n",
       "  margin-right: 6px;\n",
       "  transition: transform 0.2s;\n",
       "}\n",
       "</style><div class='ee'><ul><li><label class='ee-shut'>Projection<input type='checkbox' class='ee-toggle'></label><ul><li><span class='ee-k'>type:</span><span class='ee-v'>Projection</span></li><li><span class='ee-k'>crs:</span><span class='ee-v'>EPSG:4326</span></li><li><label class='ee-shut'>transform: [1, 0, 0, 0, 1, 0]<input type='checkbox' class='ee-toggle'></label><ul><li><span class='ee-k'>0:</span><span class='ee-v'>1</span></li><li><span class='ee-k'>1:</span><span class='ee-v'>0</span></li><li><span class='ee-k'>2:</span><span class='ee-v'>0</span></li><li><span class='ee-k'>3:</span><span class='ee-v'>0</span></li><li><span class='ee-k'>4:</span><span class='ee-v'>1</span></li><li><span class='ee-k'>5:</span><span class='ee-v'>0</span></li></ul></li></ul></li></ul></div><script>function toggleHeader() {\n",
       "    const parent = this.parentElement;\n",
       "    parent.className = parent.className === \"ee-open\" ? \"ee-shut\" : \"ee-open\";\n",
       "}\n",
       "\n",
       "for (let c of document.getElementsByClassName(\"ee-toggle\")) {\n",
       "    c.onclick = toggleHeader;\n",
       "}</script></div>"
      ],
      "text/plain": [
       "<ee.Projection at 0x152a16b90>"
      ]
     },
     "metadata": {},
     "output_type": "display_data"
    },
    {
     "data": {
      "text/plain": [
       "'Square meters above 2250m elevation'"
      ]
     },
     "metadata": {},
     "output_type": "display_data"
    },
    {
     "data": {
      "text/plain": [
       "33387596.59492597"
      ]
     },
     "metadata": {},
     "output_type": "display_data"
    },
    {
     "data": {
      "text/plain": [
       "'Square kilometers above 2250m elevation'"
      ]
     },
     "metadata": {},
     "output_type": "display_data"
    },
    {
     "data": {
      "text/plain": [
       "33.38759659492597"
      ]
     },
     "metadata": {},
     "output_type": "display_data"
    },
    {
     "data": {
      "text/plain": [
       "'total area'"
      ]
     },
     "metadata": {},
     "output_type": "display_data"
    },
    {
     "data": {
      "text/html": [
       "<div><style>:root {\n",
       "  --font-color-primary: var(--jp-content-font-color0, rgba(0, 0, 0, 1));\n",
       "  --font-color-secondary: var(--jp-content-font-color2, rgba(0, 0, 0, 0.6));\n",
       "  --font-color-accent: rgba(123, 31, 162, 1);\n",
       "  --border-color: var(--jp-border-color2, #e0e0e0);\n",
       "  --background-color: var(--jp-layout-color0, white);\n",
       "  --background-color-row-even: var(--jp-layout-color1, white);\n",
       "  --background-color-row-odd: var(--jp-layout-color2, #eeeeee);\n",
       "}\n",
       "\n",
       "html[theme=\"dark\"],\n",
       "body[data-theme=\"dark\"],\n",
       "body.vscode-dark {\n",
       "  --font-color-primary: rgba(255, 255, 255, 1);\n",
       "  --font-color-secondary: rgba(255, 255, 255, 0.6);\n",
       "  --font-color-accent: rgb(173, 132, 190);\n",
       "  --border-color: #2e2e2e;\n",
       "  --background-color: #111111;\n",
       "  --background-color-row-even: #111111;\n",
       "  --background-color-row-odd: #313131;\n",
       "}\n",
       "\n",
       ".ee {\n",
       "  padding: 1em;\n",
       "  line-height: 1.5em;\n",
       "  min-width: 300px;\n",
       "  max-width: 1200px;\n",
       "  overflow-y: scroll;\n",
       "  max-height: 600px;\n",
       "  border: 1px solid var(--border-color);\n",
       "  font-family: monospace;\n",
       "}\n",
       "\n",
       ".ee li {\n",
       "  list-style-type: none;\n",
       "}\n",
       "\n",
       ".ee ul {\n",
       "  padding-left: 1.5em !important;\n",
       "  margin: 0;\n",
       "}\n",
       "\n",
       ".ee > ul {\n",
       "  padding-left: 0 !important;\n",
       "}\n",
       "\n",
       ".ee-open,\n",
       ".ee-shut {\n",
       "  color: var(--font-color-secondary);\n",
       "  cursor: pointer;\n",
       "  margin: 0;\n",
       "}\n",
       "\n",
       ".ee-open:hover,\n",
       ".ee-shut:hover {\n",
       "  color: var(--font-color-primary);\n",
       "}\n",
       "\n",
       ".ee-k {\n",
       "  color: var(--font-color-accent);\n",
       "  margin-right: 6px;\n",
       "}\n",
       "\n",
       ".ee-v {\n",
       "  color: var(--font-color-primary);\n",
       "}\n",
       "\n",
       ".ee-toggle {\n",
       "  display: none;\n",
       "}\n",
       "\n",
       ".ee-shut + ul {\n",
       "  display: none;\n",
       "}\n",
       "\n",
       ".ee-open + ul {\n",
       "  display: block;\n",
       "}\n",
       "\n",
       ".ee-shut::before {\n",
       "  display: inline-block;\n",
       "  content: \"▼\";\n",
       "  margin-right: 6px;\n",
       "  transform: rotate(-90deg);\n",
       "  transition: transform 0.2s;\n",
       "}\n",
       "\n",
       ".ee-open::before {\n",
       "  transform: rotate(0deg);\n",
       "  display: inline-block;\n",
       "  content: \"▼\";\n",
       "  margin-right: 6px;\n",
       "  transition: transform 0.2s;\n",
       "}\n",
       "</style><div class='ee'><ul><li><span class='ee-v'>179556419.53858095</span></li></ul></div><script>function toggleHeader() {\n",
       "    const parent = this.parentElement;\n",
       "    parent.className = parent.className === \"ee-open\" ? \"ee-shut\" : \"ee-open\";\n",
       "}\n",
       "\n",
       "for (let c of document.getElementsByClassName(\"ee-toggle\")) {\n",
       "    c.onclick = toggleHeader;\n",
       "}</script></div>"
      ],
      "text/plain": [
       "<ee.ee_number.Number at 0x152bb2a50>"
      ]
     },
     "metadata": {},
     "output_type": "display_data"
    },
    {
     "data": {
      "text/plain": [
       "18.59448783882218"
      ]
     },
     "metadata": {},
     "output_type": "display_data"
    }
   ],
   "source": [
    "# for key, vals in land_cover_dict.items():\n",
    "# Create a pixel area image. Pixel values are square meters based on\n",
    "# a given CRS and scale (or CRS transform).\n",
    "pixel_area = ee.Image.pixelArea()\n",
    "\n",
    "# The default projection is WGS84 with 1-degree scale.\n",
    "display('Pixel area default projection', pixel_area.projection())\n",
    "\n",
    "# The \"area\" band produced by the `pixel_area` function can be useful for\n",
    "# calculating the area of a certain condition of another image. For example,\n",
    "# here we use the sum reducer to determine the area above 2250m in the North\n",
    "# Cascades poly, according to a 30m digital elevation model.\n",
    "\n",
    "# Import a DEM and subset the \"elevation\" band.\n",
    "elev =  ee.ImageCollection('ESA/WorldCover/v100').first().select('Map')\n",
    "\n",
    "# Define a high elevation mask where pixels with elevation greater than 2250m\n",
    "# are set to 1, otherwise 0.\n",
    "high_elev_mask = elev.clip(poly).eq(10)\n",
    "\n",
    "# Apply the high elevation mask to the pixel area image.\n",
    "high_elev_area = pixel_area.updateMask(high_elev_mask)\n",
    "\n",
    "# Sum the area of high elevation pixels in the North Cascades poly.\n",
    "area = high_elev_area.reduceRegion(\n",
    "    reducer=ee.Reducer.sum(),\n",
    "    geometry=poly,\n",
    "    crs=elev.projection(),  # DEM coordinate reference system\n",
    "    crsTransform=elev.projection().getInfo()['transform'],  # DEM grid alignment\n",
    "    maxPixels=1e10,\n",
    ")\n",
    "\n",
    "# Fetch the summed area property from the resulting dictionary and convert\n",
    "# square meters to square kilometers.\n",
    "square_meters = area.getNumber('area')\n",
    "square_kilometers = square_meters.divide(1e6)\n",
    "\n",
    "display('Square meters above 2250m elevation', square_meters.getInfo())\n",
    "display('Square kilometers above 2250m elevation', square_kilometers.getInfo())\n",
    "\n",
    "total_area = poly.area()\n",
    "display('total area', total_area)\n",
    "display(square_meters.getInfo()/total_area.getInfo()*100)"
   ]
  },
  {
   "cell_type": "code",
   "execution_count": 72,
   "id": "b2ed256e-b88e-47b7-a7c3-8105bfe19754",
   "metadata": {},
   "outputs": [
    {
     "data": {
      "text/html": [
       "\n",
       "            <style>\n",
       "                .geemap-dark {\n",
       "                    --jp-widgets-color: white;\n",
       "                    --jp-widgets-label-color: white;\n",
       "                    --jp-ui-font-color1: white;\n",
       "                    --jp-layout-color2: #454545;\n",
       "                    background-color: #383838;\n",
       "                }\n",
       "                    \n",
       "                .geemap-dark .jupyter-button {\n",
       "                    --jp-layout-color3: #383838;\n",
       "                }\n",
       "                \n",
       "                .geemap-colab {\n",
       "                    background-color: var(--colab-primary-surface-color, white);\n",
       "                }\n",
       "                    \n",
       "                .geemap-colab .jupyter-button {\n",
       "                    --jp-layout-color3: var(--colab-primary-surface-color, white);\n",
       "                }\n",
       "            </style>\n",
       "            "
      ],
      "text/plain": [
       "<IPython.core.display.HTML object>"
      ]
     },
     "metadata": {},
     "output_type": "display_data"
    },
    {
     "name": "stdout",
     "output_type": "stream",
     "text": [
      "{'112': 3389396.406239998, '114': 7204428.669131251, '116': 310196.01696294546, '122': 133244.30223357677, '124': 25516154.070521645, '126': 8592277.856392391, '20': 761373.0806720479, '200': 9001257.620573804, '30': 35213468.519375294, '40': 450415.0890374962, '50': 86544067.0144705, '60': 895136.2773757577, '80': 796059.5632449699, '90': 206518.7984795783}\n"
     ]
    }
   ],
   "source": [
    "\n",
    "# elev =  ee.ImageCollection('ESA/WorldCover/v100').first().select('Map')\n",
    "elev = ee.Image('COPERNICUS/Landcover/100m/Proba-V-C3/Global/2015').select(\n",
    "    'discrete_classification'\n",
    ")\n",
    "\n",
    "areaImage = ee.Image.pixelArea().addBands(elev.clip(poly))\n",
    "\n",
    "areas = areaImage.reduceRegion(\n",
    "    reducer = ee.Reducer.sum().group(\n",
    "        groupField= 1,\n",
    "        groupName= 'class',\n",
    "    ),\n",
    "    geometry= poly,\n",
    "    scale= 1,\n",
    "    maxPixels= 1e10\n",
    "    )\n",
    " \n",
    "# print(areas)\n",
    "\n",
    "classAreas = ee.List(areas.get('groups'))\n",
    "\n",
    "def area_sum_by_class_func(item):\n",
    "    areaDict = ee.Dictionary(item)\n",
    "    classNumber = ee.Number(areaDict.get('class')).format()\n",
    "    area = ee.Number(areaDict.get('sum'))\n",
    "    return ee.List([classNumber, area])\n",
    "    \n",
    " \n",
    "classAreaLists = classAreas.map(area_sum_by_class_func)\n",
    " \n",
    "result = ee.Dictionary(classAreaLists.flatten())\n",
    "print(result.getInfo())"
   ]
  },
  {
   "cell_type": "code",
   "execution_count": 73,
   "id": "e2bcb0d0-9e86-48d0-bafa-a39eb2f82805",
   "metadata": {},
   "outputs": [
    {
     "data": {
      "text/html": [
       "\n",
       "            <style>\n",
       "                .geemap-dark {\n",
       "                    --jp-widgets-color: white;\n",
       "                    --jp-widgets-label-color: white;\n",
       "                    --jp-ui-font-color1: white;\n",
       "                    --jp-layout-color2: #454545;\n",
       "                    background-color: #383838;\n",
       "                }\n",
       "                    \n",
       "                .geemap-dark .jupyter-button {\n",
       "                    --jp-layout-color3: #383838;\n",
       "                }\n",
       "                \n",
       "                .geemap-colab {\n",
       "                    background-color: var(--colab-primary-surface-color, white);\n",
       "                }\n",
       "                    \n",
       "                .geemap-colab .jupyter-button {\n",
       "                    --jp-layout-color3: var(--colab-primary-surface-color, white);\n",
       "                }\n",
       "            </style>\n",
       "            "
      ],
      "text/plain": [
       "<IPython.core.display.HTML object>"
      ]
     },
     "metadata": {},
     "output_type": "display_data"
    },
    {
     "data": {
      "text/plain": [
       "{'112': 3389396.406239998,\n",
       " '114': 7204428.669131251,\n",
       " '116': 310196.01696294546,\n",
       " '122': 133244.30223357677,\n",
       " '124': 25516154.070521645,\n",
       " '126': 8592277.856392391,\n",
       " '20': 761373.0806720479,\n",
       " '200': 9001257.620573804,\n",
       " '30': 35213468.519375294,\n",
       " '40': 450415.0890374962,\n",
       " '50': 86544067.0144705,\n",
       " '60': 895136.2773757577,\n",
       " '80': 796059.5632449699,\n",
       " '90': 206518.7984795783}"
      ]
     },
     "metadata": {},
     "output_type": "display_data"
    },
    {
     "name": "stdout",
     "output_type": "stream",
     "text": [
      "class: 112 Area: 3389396.406239998 Perc: 1.8876498066457181 Cum_Perc: 1.8876498066457181\n",
      "class: 114 Area: 7204428.669131251 Perc: 4.012348145304406 Cum_Perc: 5.899997951950124\n",
      "class: 116 Area: 310196.01696294546 Perc: 0.17275685144539998 Cum_Perc: 6.072754803395524\n",
      "class: 122 Area: 133244.30223357677 Perc: 0.07420748451989867 Cum_Perc: 6.146962287915422\n",
      "class: 124 Area: 25516154.070521645 Perc: 14.210660992289966 Cum_Perc: 20.357623280205388\n",
      "class: 126 Area: 8592277.856392391 Perc: 4.785280235857111 Cum_Perc: 25.1429035160625\n",
      "class: 20 Area: 761373.0806720479 Perc: 0.42402999716111683 Cum_Perc: 25.566933513223617\n",
      "class: 200 Area: 9001257.620573804 Perc: 5.013052523382335 Cum_Perc: 30.579986036605952\n",
      "class: 30 Area: 35213468.519375294 Perc: 19.61136706215566 Cum_Perc: 50.19135309876161\n",
      "class: 40 Area: 450415.0890374962 Perc: 0.250848780675712 Cum_Perc: 50.44220187943732\n",
      "class: 50 Area: 86544067.0144705 Perc: 48.19881530098953 Cum_Perc: 98.64101718042684\n",
      "class: 60 Area: 895136.2773757577 Perc: 0.49852646854735344 Cum_Perc: 99.1395436489742\n",
      "class: 80 Area: 796059.5632449699 Perc: 0.4433478709871034 Cum_Perc: 99.5828915199613\n",
      "class: 90 Area: 206518.7984795783 Perc: 0.11501610413611751 Cum_Perc: 99.69790762409741\n"
     ]
    }
   ],
   "source": [
    "display(result.getInfo())\n",
    "tot_perc = 0\n",
    "poly_area = poly.area().getInfo()\n",
    "for val, area in result.getInfo().items():\n",
    "    perc =  area/poly_area*100\n",
    "    tot_perc += perc\n",
    "    print('class:', val, 'Area:', area, 'Perc:', perc, 'Cum_Perc:', tot_perc)"
   ]
  },
  {
   "cell_type": "code",
   "execution_count": 64,
   "id": "bfdb4960-c10d-42fb-b3d9-b2842071eff4",
   "metadata": {},
   "outputs": [
    {
     "data": {
      "text/html": [
       "\n",
       "            <style>\n",
       "                .geemap-dark {\n",
       "                    --jp-widgets-color: white;\n",
       "                    --jp-widgets-label-color: white;\n",
       "                    --jp-ui-font-color1: white;\n",
       "                    --jp-layout-color2: #454545;\n",
       "                    background-color: #383838;\n",
       "                }\n",
       "                    \n",
       "                .geemap-dark .jupyter-button {\n",
       "                    --jp-layout-color3: #383838;\n",
       "                }\n",
       "                \n",
       "                .geemap-colab {\n",
       "                    background-color: var(--colab-primary-surface-color, white);\n",
       "                }\n",
       "                    \n",
       "                .geemap-colab .jupyter-button {\n",
       "                    --jp-layout-color3: var(--colab-primary-surface-color, white);\n",
       "                }\n",
       "            </style>\n",
       "            "
      ],
      "text/plain": [
       "<IPython.core.display.HTML object>"
      ]
     },
     "metadata": {},
     "output_type": "display_data"
    },
    {
     "data": {
      "text/plain": [
       "{'10': 'Tree cover',\n",
       " '20': 'Shrubland',\n",
       " '30': 'Grassland',\n",
       " '40': 'Cropland',\n",
       " '50': 'Built-up',\n",
       " '60': 'Bare / sparse vegetation',\n",
       " '70': 'Snow and ice',\n",
       " '80': 'Permanent water bodies',\n",
       " '90': 'Herbaceous wetland',\n",
       " '95': 'Mangroves',\n",
       " '100': 'Moss and lichen'}"
      ]
     },
     "execution_count": 64,
     "metadata": {},
     "output_type": "execute_result"
    }
   ],
   "source": [
    "\n",
    "def class_val_dict(val_list, class_name_list):\n",
    "    output_dict = {}\n",
    "    if len(val_list)==len(class_name_list):\n",
    "        for i in range(len(val_list)):\n",
    "            output_dict[f\"{val_list[i]}\"]=class_name_list[i]\n",
    "    return output_dict\n",
    "\n",
    "new_dict = class_val_dict(elev.get(\"Map_class_values\").getInfo(), elev.get(\"Map_class_names\").getInfo())\n",
    "new_dict"
   ]
  },
  {
   "cell_type": "code",
   "execution_count": null,
   "id": "bd69c9ba-b580-4a2e-b0b5-d3b2fffff43e",
   "metadata": {},
   "outputs": [],
   "source": []
  }
 ],
 "metadata": {
  "kernelspec": {
   "display_name": "Python 3 (ipykernel)",
   "language": "python",
   "name": "python3"
  },
  "language_info": {
   "codemirror_mode": {
    "name": "ipython",
    "version": 3
   },
   "file_extension": ".py",
   "mimetype": "text/x-python",
   "name": "python",
   "nbconvert_exporter": "python",
   "pygments_lexer": "ipython3",
   "version": "3.11.5"
  }
 },
 "nbformat": 4,
 "nbformat_minor": 5
}
