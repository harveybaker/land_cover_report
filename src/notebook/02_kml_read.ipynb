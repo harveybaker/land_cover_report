{
 "cells": [
  {
   "cell_type": "code",
   "execution_count": 26,
   "id": "10cc2f46-c21d-4026-b34e-a5d21493bd65",
   "metadata": {},
   "outputs": [],
   "source": [
    "import geopandas as gpd\n",
    "import json\n",
    "import ssl \n",
    "import geemap\n",
    "ssl._create_default_https_context = ssl._create_unverified_context\n",
    "import ee\n",
    "\n",
    "# Trigger the authentication flow.\n",
    "# Don't need to run the below as I am alreay authenticated\n",
    "# ee.Authenticate()\n",
    "\n",
    "# Initialize the library.\n",
    "ee.Initialize()"
   ]
  },
  {
   "cell_type": "code",
   "execution_count": 1,
   "id": "aaad9615-2c47-4221-ba37-4998e2012cde",
   "metadata": {},
   "outputs": [],
   "source": [
    "land_cover_dict = {\n",
    "    \"Tree cover\":{\n",
    "        \"color\": \"#006400\",\n",
    "        \"value\": 10, \n",
    "    },\n",
    "    \"Shrubland\":{\n",
    "        \"color\": \"#ffbb22\",\n",
    "        \"value\": 20, \n",
    "    },\n",
    "    \"Grassland\":{\n",
    "        \"color\": \"#ffff4c\",\n",
    "        \"value\": 30, \n",
    "    },\n",
    "    \"Cropland\":{\n",
    "        \"color\": \"#f096ff\",\n",
    "        \"value\": 40, \n",
    "    },\n",
    "    \"Built-up\":{\n",
    "        \"color\": \"#fa0000\",\n",
    "        \"value\": 50, \n",
    "    },\n",
    "    \"Bare / sparse vegetation\":{\n",
    "        \"color\": \"#b4b4b4\",\n",
    "        \"value\": 60, \n",
    "    },\n",
    "    \"Snow and ice\":{\n",
    "        \"color\": \"#f0f0f0\",\n",
    "        \"value\": 70, \n",
    "    },\n",
    "    \"Permanent water bodies\":{\n",
    "        \"color\": \"#0064c8\",\n",
    "        \"value\": 80, \n",
    "    },\n",
    "    \"Herbaceous wetland\":{\n",
    "        \"color\": \"#0096a0\",\n",
    "        \"value\": 90, \n",
    "    },\n",
    "    \"Mangroves\":{\n",
    "        \"color\": \"#00cf75\",\n",
    "        \"value\": 95, \n",
    "    },\n",
    "    \"Moss and lichen\":{ \n",
    "        \"color\": \"#fae6a0\",\n",
    "        \"value\": 100, \n",
    "    },\n",
    "}\n",
    "\n"
   ]
  },
  {
   "cell_type": "code",
   "execution_count": 20,
   "id": "a7dfedcc-a226-4dcf-a103-351426c25d15",
   "metadata": {},
   "outputs": [],
   "source": [
    "from typing import Dict, Optional\n",
    "def ee_geo_compatible(geoJSON_input: Dict):\n",
    "    geoJSON_output = dict(geoJSON_input)\n",
    "    try:\n",
    "        if geoJSON_input[\"type\"]==\"Polygon\":\n",
    "            check_coords = geoJSON_input[\"coordinates\"][0][0]\n",
    "            if len(check_coords)>2:\n",
    "                print(\"Forcefully making coordinates compatible ee.Geometry as current len>2:\", check_coords)\n",
    "                new_coords = [[x[0:2] for x in y] for y in geoJSON_input[\"coordinates\"]]\n",
    "                geoJSON_output[\"coordinates\"] = new_coords\n",
    "        else:\n",
    "            print(\"currently unknown handling for type:\", geoJSON_input[\"type\"])\n",
    "        return geoJSON_output\n",
    "    except:\n",
    "        print(\"Dict passed does not follow geoJSON format\")\n",
    "        return None\n",
    "            \n",
    "    "
   ]
  },
  {
   "cell_type": "code",
   "execution_count": 21,
   "id": "b71e514a-eb72-4e02-b7ce-4ed9f8dc7a95",
   "metadata": {},
   "outputs": [
    {
     "data": {
      "text/plain": [
       "'original geojson'"
      ]
     },
     "metadata": {},
     "output_type": "display_data"
    },
    {
     "data": {
      "text/plain": [
       "{'type': 'FeatureCollection',\n",
       " 'features': [{'id': '0',\n",
       "   'type': 'Feature',\n",
       "   'properties': {'Name': 'townsville polygon', 'Description': ''},\n",
       "   'geometry': {'type': 'Polygon',\n",
       "    'coordinates': [[[146.6789497574668, -19.23247934166526, 0.0],\n",
       "      [146.6879911595589, -19.33054650116621, 0.0],\n",
       "      [146.8302295699071, -19.33087430904637, 0.0],\n",
       "      [146.8595478481039, -19.26336834562065, 0.0],\n",
       "      [146.8048945577382, -19.2333878909012, 0.0],\n",
       "      [146.6789497574668, -19.23247934166526, 0.0]]]}}]}"
      ]
     },
     "metadata": {},
     "output_type": "display_data"
    },
    {
     "name": "stdout",
     "output_type": "stream",
     "text": [
      "[146.6789497574668, -19.23247934166526, 0.0]\n",
      "Forcefully making coordinates compatible ee.Geometry as current len>2: [146.6789497574668, -19.23247934166526, 0.0]\n",
      "[[[146.6789497574668, -19.23247934166526], [146.6879911595589, -19.33054650116621], [146.8302295699071, -19.33087430904637], [146.8595478481039, -19.26336834562065], [146.8048945577382, -19.2333878909012], [146.6789497574668, -19.23247934166526]]]\n",
      "succesfully passed to ee.Geometry\n"
     ]
    },
    {
     "data": {
      "text/plain": [
       "'updated geoJSON'"
      ]
     },
     "metadata": {},
     "output_type": "display_data"
    },
    {
     "data": {
      "text/plain": [
       "{'type': 'FeatureCollection',\n",
       " 'features': [{'id': '0',\n",
       "   'type': 'Feature',\n",
       "   'properties': {'Name': 'townsville polygon', 'Description': ''},\n",
       "   'geometry': {'type': 'Polygon',\n",
       "    'coordinates': [[[146.6789497574668, -19.23247934166526],\n",
       "      [146.6879911595589, -19.33054650116621],\n",
       "      [146.8302295699071, -19.33087430904637],\n",
       "      [146.8595478481039, -19.26336834562065],\n",
       "      [146.8048945577382, -19.2333878909012],\n",
       "      [146.6789497574668, -19.23247934166526]]]}}]}"
      ]
     },
     "metadata": {},
     "output_type": "display_data"
    }
   ],
   "source": [
    "import geopandas as gpd\n",
    "# Path to your KML file\n",
    "kml_file_path = 'townsville.kml'\n",
    "\n",
    "# Read the KML file using geopandas\n",
    "gpd.io.file.fiona.drvsupport.supported_drivers['KML'] = 'rw'\n",
    "my_map = gpd.read_file(kml_file_path, driver='KML')\n",
    "kml_geo_json=json.loads(my_map.to_json())\n",
    "new_kml_geo_json = dict(kml_geo_json)\n",
    "# Initiate with no features\n",
    "new_kml_geo_json[\"features\"] = []\n",
    "display(\"original geojson\")\n",
    "display(kml_geo_json)\n",
    "for feat in kml_geo_json[\"features\"]:\n",
    "    new_feat = dict(feat)\n",
    "    new_feat[\"geometry\"] = ee_geo_compatible(feat[\"geometry\"])\n",
    "    if new_feat[\"geometry\"]:\n",
    "        try:\n",
    "            ee.Geometry(new_feat[\"geometry\"])\n",
    "            print(\"succesfully passed to ee.Geometry\")\n",
    "            new_kml_geo_json[\"features\"] += [new_feat]\n",
    "        except:\n",
    "            print(\"Unable to pass into ee.Geometry asses below feature\")\n",
    "            print(new_feat)\n",
    "            \n",
    "display(\"updated geoJSON\")\n",
    "display(new_kml_geo_json)\n"
   ]
  },
  {
   "cell_type": "code",
   "execution_count": 24,
   "id": "d2f2ab08-1367-49fd-aa1a-e7f29d0c3ea3",
   "metadata": {},
   "outputs": [
    {
     "data": {
      "text/plain": [
       "ee.Geometry({\n",
       "  \"functionInvocationValue\": {\n",
       "    \"functionName\": \"Collection.geometry\",\n",
       "    \"arguments\": {\n",
       "      \"collection\": {\n",
       "        \"functionInvocationValue\": {\n",
       "          \"functionName\": \"Collection\",\n",
       "          \"arguments\": {\n",
       "            \"features\": {\n",
       "              \"arrayValue\": {\n",
       "                \"values\": [\n",
       "                  {\n",
       "                    \"functionInvocationValue\": {\n",
       "                      \"functionName\": \"Feature\",\n",
       "                      \"arguments\": {\n",
       "                        \"geometry\": {\n",
       "                          \"functionInvocationValue\": {\n",
       "                            \"functionName\": \"GeometryConstructors.Polygon\",\n",
       "                            \"arguments\": {\n",
       "                              \"coordinates\": {\n",
       "                                \"constantValue\": [\n",
       "                                  [\n",
       "                                    [\n",
       "                                      146.6789497574668,\n",
       "                                      -19.23247934166526\n",
       "                                    ],\n",
       "                                    [\n",
       "                                      146.6879911595589,\n",
       "                                      -19.33054650116621\n",
       "                                    ],\n",
       "                                    [\n",
       "                                      146.8302295699071,\n",
       "                                      -19.33087430904637\n",
       "                                    ],\n",
       "                                    [\n",
       "                                      146.8595478481039,\n",
       "                                      -19.26336834562065\n",
       "                                    ],\n",
       "                                    [\n",
       "                                      146.8048945577382,\n",
       "                                      -19.2333878909012\n",
       "                                    ],\n",
       "                                    [\n",
       "                                      146.6789497574668,\n",
       "                                      -19.23247934166526\n",
       "                                    ]\n",
       "                                  ]\n",
       "                                ]\n",
       "                              }\n",
       "                            }\n",
       "                          }\n",
       "                        },\n",
       "                        \"metadata\": {\n",
       "                          \"constantValue\": {\n",
       "                            \"Description\": \"\",\n",
       "                            \"Name\": \"townsville polygon\",\n",
       "                            \"system:index\": \"0\"\n",
       "                          }\n",
       "                        }\n",
       "                      }\n",
       "                    }\n",
       "                  }\n",
       "                ]\n",
       "              }\n",
       "            }\n",
       "          }\n",
       "        }\n",
       "      }\n",
       "    }\n",
       "  }\n",
       "})"
      ]
     },
     "metadata": {},
     "output_type": "display_data"
    }
   ],
   "source": [
    "geojson_fc = ee.FeatureCollection(new_kml_geo_json)\n",
    "display(geojson_fc.geometry())"
   ]
  },
  {
   "cell_type": "code",
   "execution_count": 62,
   "id": "e8939479-7f25-4341-902c-33cb13885c36",
   "metadata": {},
   "outputs": [
    {
     "data": {
      "text/html": [
       "\n",
       "            <style>\n",
       "                .geemap-dark {\n",
       "                    --jp-widgets-color: white;\n",
       "                    --jp-widgets-label-color: white;\n",
       "                    --jp-ui-font-color1: white;\n",
       "                    --jp-layout-color2: #454545;\n",
       "                    background-color: #383838;\n",
       "                }\n",
       "                    \n",
       "                .geemap-dark .jupyter-button {\n",
       "                    --jp-layout-color3: #383838;\n",
       "                }\n",
       "                \n",
       "                .geemap-colab {\n",
       "                    background-color: var(--colab-primary-surface-color, white);\n",
       "                }\n",
       "                    \n",
       "                .geemap-colab .jupyter-button {\n",
       "                    --jp-layout-color3: var(--colab-primary-surface-color, white);\n",
       "                }\n",
       "            </style>\n",
       "            "
      ],
      "text/plain": [
       "<IPython.core.display.HTML object>"
      ]
     },
     "metadata": {},
     "output_type": "display_data"
    },
    {
     "data": {
      "text/plain": [
       "{'type': 'Image',\n",
       " 'bands': [{'id': 'Map',\n",
       "   'data_type': {'type': 'PixelType',\n",
       "    'precision': 'int',\n",
       "    'min': 0,\n",
       "    'max': 255},\n",
       "   'dimensions': [4320000, 1728000],\n",
       "   'crs': 'EPSG:4326',\n",
       "   'crs_transform': [8.333333333333333e-05,\n",
       "    0,\n",
       "    -180,\n",
       "    0,\n",
       "    -8.333333333333333e-05,\n",
       "    84]}],\n",
       " 'version': 1685065671563344,\n",
       " 'id': 'ESA/WorldCover/v100/2020',\n",
       " 'properties': {'system:time_start': 1577836800000,\n",
       "  'Map_class_names': ['Tree cover',\n",
       "   'Shrubland',\n",
       "   'Grassland',\n",
       "   'Cropland',\n",
       "   'Built-up',\n",
       "   'Bare / sparse vegetation',\n",
       "   'Snow and ice',\n",
       "   'Permanent water bodies',\n",
       "   'Herbaceous wetland',\n",
       "   'Mangroves',\n",
       "   'Moss and lichen'],\n",
       "  'system:footprint': {'type': 'LinearRing',\n",
       "   'coordinates': [[-180, -90],\n",
       "    [180, -90],\n",
       "    [180, 90],\n",
       "    [-180, 90],\n",
       "    [-180, -90]]},\n",
       "  'system:time_end': 1609459200000,\n",
       "  'Map_class_palette': ['006400',\n",
       "   'ffbb22',\n",
       "   'ffff4c',\n",
       "   'f096ff',\n",
       "   'fa0000',\n",
       "   'b4b4b4',\n",
       "   'f0f0f0',\n",
       "   '0064c8',\n",
       "   '0096a0',\n",
       "   '00cf75',\n",
       "   'fae6a0'],\n",
       "  'Map_class_values': [10, 20, 30, 40, 50, 60, 70, 80, 90, 95, 100],\n",
       "  'system:asset_size': 109355097577,\n",
       "  'system:index': '2020'}}"
      ]
     },
     "metadata": {},
     "output_type": "display_data"
    },
    {
     "data": {
      "application/vnd.jupyter.widget-view+json": {
       "model_id": "479275f342d5472e8540340981a2a580",
       "version_major": 2,
       "version_minor": 0
      },
      "text/plain": [
       "Map(center=[-19.281796805191107, 146.76263396612705], controls=(WidgetControl(options=['position', 'transparen…"
      ]
     },
     "metadata": {},
     "output_type": "display_data"
    }
   ],
   "source": [
    "dataset = ee.ImageCollection('ESA/WorldCover/v100').first()\n",
    "display(dataset.getInfo())\n",
    "visualization = {\n",
    "    'bands': ['Map'],\n",
    "}\n",
    "\n",
    "# display(dataset.getInfo())\n",
    "\n",
    "m = geemap.Map()\n",
    "poly = geojson_fc.geometry()\n",
    "m.add_ee_layer(dataset.clip(poly), visualization, 'Landcover')\n",
    "m.add_legend(title=\"ESA Land Cover\", builtin_legend='ESA_WorldCover')\n",
    "m.centerObject(poly, 12)\n",
    "\n",
    "display(m)\n"
   ]
  },
  {
   "cell_type": "code",
   "execution_count": 50,
   "id": "b85f6f59-fb2a-4974-98ac-17ab209d6ca4",
   "metadata": {},
   "outputs": [
    {
     "data": {
      "text/html": [
       "\n",
       "            <style>\n",
       "                .geemap-dark {\n",
       "                    --jp-widgets-color: white;\n",
       "                    --jp-widgets-label-color: white;\n",
       "                    --jp-ui-font-color1: white;\n",
       "                    --jp-layout-color2: #454545;\n",
       "                    background-color: #383838;\n",
       "                }\n",
       "                    \n",
       "                .geemap-dark .jupyter-button {\n",
       "                    --jp-layout-color3: #383838;\n",
       "                }\n",
       "                \n",
       "                .geemap-colab {\n",
       "                    background-color: var(--colab-primary-surface-color, white);\n",
       "                }\n",
       "                    \n",
       "                .geemap-colab .jupyter-button {\n",
       "                    --jp-layout-color3: var(--colab-primary-surface-color, white);\n",
       "                }\n",
       "            </style>\n",
       "            "
      ],
      "text/plain": [
       "<IPython.core.display.HTML object>"
      ]
     },
     "metadata": {},
     "output_type": "display_data"
    },
    {
     "data": {
      "application/vnd.jupyter.widget-view+json": {
       "model_id": "92aaed30a9c84aa6a25b1cba033db07c",
       "version_major": 2,
       "version_minor": 0
      },
      "text/plain": [
       "Map(center=[-19.281796805191107, 146.76263396612705], controls=(WidgetControl(options=['position', 'transparen…"
      ]
     },
     "metadata": {},
     "output_type": "display_data"
    }
   ],
   "source": [
    "dataset = ee.ImageCollection('ESA/WorldCover/v200').first()\n",
    "\n",
    "visualization = {\n",
    "    'bands': ['Map'],\n",
    "}\n",
    "\n",
    "# display(dataset.getInfo())\n",
    "\n",
    "m = geemap.Map()\n",
    "poly = geojson_fc.geometry()\n",
    "m.add_ee_layer(dataset.clip(poly), visualization, 'Landcover')\n",
    "m.add_legend(title=\"ESA Land Cover\", builtin_legend='ESA_WorldCover')\n",
    "\n",
    "m.centerObject(poly, 12)\n",
    "\n",
    "display(m)\n"
   ]
  },
  {
   "cell_type": "code",
   "execution_count": 74,
   "id": "45aa17e5-fcef-49c8-be03-a6ee6cb3ad0b",
   "metadata": {},
   "outputs": [
    {
     "data": {
      "text/html": [
       "\n",
       "            <style>\n",
       "                .geemap-dark {\n",
       "                    --jp-widgets-color: white;\n",
       "                    --jp-widgets-label-color: white;\n",
       "                    --jp-ui-font-color1: white;\n",
       "                    --jp-layout-color2: #454545;\n",
       "                    background-color: #383838;\n",
       "                }\n",
       "                    \n",
       "                .geemap-dark .jupyter-button {\n",
       "                    --jp-layout-color3: #383838;\n",
       "                }\n",
       "                \n",
       "                .geemap-colab {\n",
       "                    background-color: var(--colab-primary-surface-color, white);\n",
       "                }\n",
       "                    \n",
       "                .geemap-colab .jupyter-button {\n",
       "                    --jp-layout-color3: var(--colab-primary-surface-color, white);\n",
       "                }\n",
       "            </style>\n",
       "            "
      ],
      "text/plain": [
       "<IPython.core.display.HTML object>"
      ]
     },
     "metadata": {},
     "output_type": "display_data"
    },
    {
     "data": {
      "application/vnd.jupyter.widget-view+json": {
       "model_id": "a6380c9de97a42c69f3f81fa6f8ae2f4",
       "version_major": 2,
       "version_minor": 0
      },
      "text/plain": [
       "Map(center=[-19.281796805191107, 146.76263396612705], controls=(WidgetControl(options=['position', 'transparen…"
      ]
     },
     "metadata": {},
     "output_type": "display_data"
    }
   ],
   "source": [
    "# These consistent Land Cover maps (v3.0.1) are provided for the period 2015-2019 over the entire Glo\n",
    "dataset_2015 = ee.Image('COPERNICUS/Landcover/100m/Proba-V-C3/Global/2015').select(\n",
    "    'discrete_classification'\n",
    ")\n",
    "dataset_2019 = ee.Image('COPERNICUS/Landcover/100m/Proba-V-C3/Global/2019').select(\n",
    "    'discrete_classification'\n",
    ")\n",
    "\n",
    "visualization = {\n",
    "    'bands': ['discrete_classification'],\n",
    "}\n",
    "\n",
    "# display(dataset.getInfo())\n",
    "\n",
    "m = geemap.Map()\n",
    "poly = geojson_fc.geometry()\n",
    "m.add_ee_layer(dataset_2015.clip(poly), visualization, 'Landcover_2015')\n",
    "m.add_ee_layer(dataset_2019.clip(poly), visualization, 'Landcover_2019')\n",
    "m.add_legend(title=\"ESA Land Cover\", builtin_legend='COPERNICUS/Landcover/100m/Proba-V/Global')\n",
    "m.centerObject(poly, 12)\n",
    "\n",
    "display(m)"
   ]
  },
  {
   "cell_type": "code",
   "execution_count": 69,
   "id": "5b138bc2-30ef-45f1-adf3-bcb389c53f22",
   "metadata": {},
   "outputs": [
    {
     "data": {
      "text/html": [
       "\n",
       "            <style>\n",
       "                .geemap-dark {\n",
       "                    --jp-widgets-color: white;\n",
       "                    --jp-widgets-label-color: white;\n",
       "                    --jp-ui-font-color1: white;\n",
       "                    --jp-layout-color2: #454545;\n",
       "                    background-color: #383838;\n",
       "                }\n",
       "                    \n",
       "                .geemap-dark .jupyter-button {\n",
       "                    --jp-layout-color3: #383838;\n",
       "                }\n",
       "                \n",
       "                .geemap-colab {\n",
       "                    background-color: var(--colab-primary-surface-color, white);\n",
       "                }\n",
       "                    \n",
       "                .geemap-colab .jupyter-button {\n",
       "                    --jp-layout-color3: var(--colab-primary-surface-color, white);\n",
       "                }\n",
       "            </style>\n",
       "            "
      ],
      "text/plain": [
       "<IPython.core.display.HTML object>"
      ]
     },
     "metadata": {},
     "output_type": "display_data"
    },
    {
     "data": {
      "application/vnd.jupyter.widget-view+json": {
       "model_id": "c738e4300bc54120a09c1f435c15b98b",
       "version_major": 2,
       "version_minor": 0
      },
      "text/plain": [
       "Map(center=[-19.281796805191107, 146.76263396612705], controls=(WidgetControl(options=['position', 'transparen…"
      ]
     },
     "metadata": {},
     "output_type": "display_data"
    }
   ],
   "source": [
    "dataset = ee.Image('ESA/GLOBCOVER_L4_200901_200912_V2_3').select(\n",
    "    'landcover'\n",
    ")\n",
    "\n",
    "visualization = {\n",
    "    # 'palette': landcover.get(\"visualization_0_palette\").getInfo().strip(\"'\").split(\",\"),\n",
    "}\n",
    "\n",
    "m = geemap.Map()\n",
    "poly = geojson_fc.geometry()\n",
    "m.add_ee_layer(dataset.clip(poly), visualization, 'Landcover')\n",
    "m.add_legend(title=\"Landcover\", builtin_legend='GLOBCOVER')\n",
    "m.centerObject(poly, 12)\n",
    "\n",
    "display(m)"
   ]
  },
  {
   "cell_type": "code",
   "execution_count": 51,
   "id": "5afb64c4-d5bd-4050-a476-dab0c6f72dc2",
   "metadata": {},
   "outputs": [
    {
     "data": {
      "text/html": [
       "\n",
       "            <style>\n",
       "                .geemap-dark {\n",
       "                    --jp-widgets-color: white;\n",
       "                    --jp-widgets-label-color: white;\n",
       "                    --jp-ui-font-color1: white;\n",
       "                    --jp-layout-color2: #454545;\n",
       "                    background-color: #383838;\n",
       "                }\n",
       "                    \n",
       "                .geemap-dark .jupyter-button {\n",
       "                    --jp-layout-color3: #383838;\n",
       "                }\n",
       "                \n",
       "                .geemap-colab {\n",
       "                    background-color: var(--colab-primary-surface-color, white);\n",
       "                }\n",
       "                    \n",
       "                .geemap-colab .jupyter-button {\n",
       "                    --jp-layout-color3: var(--colab-primary-surface-color, white);\n",
       "                }\n",
       "            </style>\n",
       "            "
      ],
      "text/plain": [
       "<IPython.core.display.HTML object>"
      ]
     },
     "metadata": {},
     "output_type": "display_data"
    },
    {
     "name": "stdout",
     "output_type": "stream",
     "text": [
      "NLCD\n",
      "ESA_WorldCover\n",
      "ESRI_LandCover\n",
      "ESRI_LandCover_TS\n",
      "Dynamic_World\n",
      "NWI\n",
      "MODIS/051/MCD12Q1\n",
      "MODIS/006/MCD12Q1\n",
      "GLOBCOVER\n",
      "JAXA/PALSAR\n",
      "Oxford\n",
      "AAFC/ACI\n",
      "COPERNICUS/CORINE/V20/100m\n",
      "COPERNICUS/Landcover/100m/Proba-V/Global\n",
      "USDA/NASS/CDL\n",
      "ALOS_landforms\n"
     ]
    }
   ],
   "source": [
    "legends = geemap.builtin_legends\n",
    "for legend in legends:\n",
    "    print(legend)"
   ]
  },
  {
   "cell_type": "code",
   "execution_count": 73,
   "id": "94cbf638-6fb3-4788-a472-e26132b7e16d",
   "metadata": {},
   "outputs": [
    {
     "data": {
      "text/html": [
       "\n",
       "            <style>\n",
       "                .geemap-dark {\n",
       "                    --jp-widgets-color: white;\n",
       "                    --jp-widgets-label-color: white;\n",
       "                    --jp-ui-font-color1: white;\n",
       "                    --jp-layout-color2: #454545;\n",
       "                    background-color: #383838;\n",
       "                }\n",
       "                    \n",
       "                .geemap-dark .jupyter-button {\n",
       "                    --jp-layout-color3: #383838;\n",
       "                }\n",
       "                \n",
       "                .geemap-colab {\n",
       "                    background-color: var(--colab-primary-surface-color, white);\n",
       "                }\n",
       "                    \n",
       "                .geemap-colab .jupyter-button {\n",
       "                    --jp-layout-color3: var(--colab-primary-surface-color, white);\n",
       "                }\n",
       "            </style>\n",
       "            "
      ],
      "text/plain": [
       "<IPython.core.display.HTML object>"
      ]
     },
     "metadata": {},
     "output_type": "display_data"
    },
    {
     "data": {
      "application/vnd.jupyter.widget-view+json": {
       "model_id": "ae6e5e38bea0467482afb0491c78e8e1",
       "version_major": 2,
       "version_minor": 0
      },
      "text/plain": [
       "Map(center=[-19.281796805191107, 146.76263396612705], controls=(WidgetControl(options=['position', 'transparen…"
      ]
     },
     "metadata": {},
     "output_type": "display_data"
    }
   ],
   "source": [
    "dataset_esa = ee.ImageCollection('ESA/WorldCover/v200').first()\n",
    "\n",
    "visualization = {\n",
    "    'bands': ['Map'],\n",
    "}\n",
    "\n",
    "# display(dataset.getInfo())\n",
    "\n",
    "m = geemap.Map()\n",
    "poly = geojson_fc.geometry()\n",
    "m.add_ee_layer(dataset_esa.clip(poly), visualization, 'ESA_WorldCover')\n",
    "m.add_legend('ESA_WorldCover', builtin_legend='ESA_WorldCover', layer_name='ESA_WorldCover')\n",
    "\n",
    "dataset_glob = ee.Image('ESA/GLOBCOVER_L4_200901_200912_V2_3').select(\n",
    "    'landcover'\n",
    ")\n",
    "\n",
    "visualization = {\n",
    "    # 'palette': landcover.get(\"visualization_0_palette\").getInfo().strip(\"'\").split(\",\"),\n",
    "}\n",
    "\n",
    "m.add_ee_layer(dataset_glob.clip(poly), visualization, 'GLOBCOVER')\n",
    "m.add_legend('GLOBCOVER', builtin_legend='GLOBCOVER', layer_name='GLOBCOVER')\n",
    "m.centerObject(poly, 12)\n",
    "\n",
    "display(m)\n"
   ]
  },
  {
   "cell_type": "code",
   "execution_count": 88,
   "id": "8e48bb51-57a2-4d18-a15d-5912fb3c84d3",
   "metadata": {},
   "outputs": [
    {
     "data": {
      "text/html": [
       "\n",
       "            <style>\n",
       "                .geemap-dark {\n",
       "                    --jp-widgets-color: white;\n",
       "                    --jp-widgets-label-color: white;\n",
       "                    --jp-ui-font-color1: white;\n",
       "                    --jp-layout-color2: #454545;\n",
       "                    background-color: #383838;\n",
       "                }\n",
       "                    \n",
       "                .geemap-dark .jupyter-button {\n",
       "                    --jp-layout-color3: #383838;\n",
       "                }\n",
       "                \n",
       "                .geemap-colab {\n",
       "                    background-color: var(--colab-primary-surface-color, white);\n",
       "                }\n",
       "                    \n",
       "                .geemap-colab .jupyter-button {\n",
       "                    --jp-layout-color3: var(--colab-primary-surface-color, white);\n",
       "                }\n",
       "            </style>\n",
       "            "
      ],
      "text/plain": [
       "<IPython.core.display.HTML object>"
      ]
     },
     "metadata": {},
     "output_type": "display_data"
    },
    {
     "data": {
      "application/vnd.jupyter.widget-view+json": {
       "model_id": "6de003eb8c23428d834948dd5088d491",
       "version_major": 2,
       "version_minor": 0
      },
      "text/plain": [
       "Map(center=[-19.281796805191107, 146.76263396612705], controls=(WidgetControl(options=['position', 'transparen…"
      ]
     },
     "execution_count": 88,
     "metadata": {},
     "output_type": "execute_result"
    }
   ],
   "source": [
    "def mask_s2_clouds(image):\n",
    "  \"\"\"Masks clouds in a Sentinel-2 image using the QA band.\n",
    "\n",
    "  Args:\n",
    "      image (ee.Image): A Sentinel-2 image.\n",
    "\n",
    "  Returns:\n",
    "      ee.Image: A cloud-masked Sentinel-2 image.\n",
    "  \"\"\"\n",
    "  qa = image.select('QA60')\n",
    "\n",
    "  # Bits 10 and 11 are clouds and cirrus, respectively.\n",
    "  cloud_bit_mask = 1 << 10\n",
    "  cirrus_bit_mask = 1 << 11\n",
    "\n",
    "  # Both flags should be set to zero, indicating clear conditions.\n",
    "  mask = (\n",
    "      qa.bitwiseAnd(cloud_bit_mask)\n",
    "      .eq(0)\n",
    "      .And(qa.bitwiseAnd(cirrus_bit_mask).eq(0))\n",
    "  )\n",
    "\n",
    "  return image.updateMask(mask).divide(10000)\n",
    "\n",
    "rgb_vis = {\n",
    "    'min': 0.0,\n",
    "    'max': 0.3,\n",
    "    'bands': ['B4', 'B3', 'B2'],\n",
    "}\n",
    "\n",
    "m = geemap.Map()\n",
    "m.centerObject(poly, 12)\n",
    "\n",
    "for yr in ['2017','2019', '2021']:\n",
    "        \n",
    "    dataset = (\n",
    "        ee.ImageCollection('COPERNICUS/S2_HARMONIZED')\n",
    "        .filterDate(f'{yr}-01-01', f'{yr}-12-31')\n",
    "        # Pre-filter to get less cloudy granules.\n",
    "        .filter(ee.Filter.lt('CLOUDY_PIXEL_PERCENTAGE', 20))\n",
    "        .map(mask_s2_clouds)\n",
    "    )\n",
    "\n",
    "    m.add_layer(dataset.median().clip(poly), rgb_vis, f'{yr}_Satalite')\n",
    "# m.add_layer(dataset_2016.median(), rgb_vis, '2016_Satalite')\n",
    "m"
   ]
  },
  {
   "cell_type": "code",
   "execution_count": null,
   "id": "5719a6b2-e3ed-40c4-843d-09187b89d677",
   "metadata": {},
   "outputs": [],
   "source": []
  }
 ],
 "metadata": {
  "kernelspec": {
   "display_name": "Python 3 (ipykernel)",
   "language": "python",
   "name": "python3"
  },
  "language_info": {
   "codemirror_mode": {
    "name": "ipython",
    "version": 3
   },
   "file_extension": ".py",
   "mimetype": "text/x-python",
   "name": "python",
   "nbconvert_exporter": "python",
   "pygments_lexer": "ipython3",
   "version": "3.11.5"
  }
 },
 "nbformat": 4,
 "nbformat_minor": 5
}
